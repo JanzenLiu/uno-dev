{
 "cells": [
  {
   "cell_type": "code",
   "execution_count": 2,
   "metadata": {},
   "outputs": [],
   "source": [
    "import pickle"
   ]
  },
  {
   "cell_type": "code",
   "execution_count": 13,
   "metadata": {},
   "outputs": [],
   "source": [
    "import matplotlib.pyplot as plt"
   ]
  },
  {
   "cell_type": "code",
   "execution_count": 20,
   "metadata": {},
   "outputs": [],
   "source": [
    "import pandas as pd"
   ]
  },
  {
   "cell_type": "code",
   "execution_count": 22,
   "metadata": {},
   "outputs": [],
   "source": [
    "import seaborn as sns"
   ]
  },
  {
   "cell_type": "code",
   "execution_count": 25,
   "metadata": {},
   "outputs": [],
   "source": [
    "import numpy as np"
   ]
  },
  {
   "cell_type": "code",
   "execution_count": 4,
   "metadata": {},
   "outputs": [
    {
     "name": "stdout",
     "output_type": "stream",
     "text": [
      "checkpoint\t\t\t\t   nn[16]_getplay4M.ckpt.meta\r\n",
      "lr_getplay4M.pkl\t\t\t   nn[16]_getplay4M.h5\r\n",
      "nn[16]_getplay4M.ckpt.data-00000-of-00001  nn[32_16]_getplay4M.h5\r\n",
      "nn[16]_getplay4M.ckpt.index\r\n"
     ]
    }
   ],
   "source": [
    "!ls local_model"
   ]
  },
  {
   "cell_type": "code",
   "execution_count": 6,
   "metadata": {},
   "outputs": [],
   "source": [
    "with open(\"local_model/lr_getplay4M.pkl\", \"rb\") as f:\n",
    "    model_large = pickle.load(f)"
   ]
  },
  {
   "cell_type": "code",
   "execution_count": 7,
   "metadata": {},
   "outputs": [
    {
     "data": {
      "text/plain": [
       "LogisticRegression(C=1.0, class_weight=None, dual=False, fit_intercept=True,\n",
       "          intercept_scaling=1, max_iter=100, multi_class='multinomial',\n",
       "          n_jobs=1, penalty='l2', random_state=0, solver='lbfgs',\n",
       "          tol=0.0001, verbose=0, warm_start=False)"
      ]
     },
     "execution_count": 7,
     "metadata": {},
     "output_type": "execute_result"
    }
   ],
   "source": [
    "model_large"
   ]
  },
  {
   "cell_type": "code",
   "execution_count": 34,
   "metadata": {},
   "outputs": [],
   "source": [
    "colors = \"RGBY\"\n",
    "nums = \"0123456789\"\n",
    "cols = [\"D4\"] + [\"D2({})\".format(c) for c in colors] + [\"Num(B, {})\".format(n) for n in nums]"
   ]
  },
  {
   "cell_type": "code",
   "execution_count": 45,
   "metadata": {},
   "outputs": [
    {
     "data": {
      "image/png": "[encoded data removed]",
      "text/plain": [
       "<Figure size 720x576 with 2 Axes>"
      ]
     },
     "metadata": {},
     "output_type": "display_data"
    }
   ],
   "source": [
    "df_coef = pd.DataFrame(model_large.coef_.T[5:15, 5:15], index=cols[5:], columns=cols[5:])\n",
    "\n",
    "plt.figure(figsize=(10, 8))\n",
    "sns.heatmap(df_coef.T, cmap=\"YlGnBu\")\n",
    "plt.xticks(np.arange(0.5, len(df_coef.index), 1), df_coef.index, rotation=90, fontsize=10)\n",
    "plt.yticks(np.arange(0.5, len(df_coef.columns), 1), df_coef.columns, fontsize=10)\n",
    "# plt.savefig(\"lr_weights_getplay4M.jpg\")\n",
    "plt.savefig(\"local_graphs/7_lr_weights_getplay4M.pdf\")\n",
    "plt.show()"
   ]
  },
  {
   "cell_type": "code",
   "execution_count": 15,
   "metadata": {},
   "outputs": [
    {
     "data": {
      "text/plain": [
       "(10, 10)"
      ]
     },
     "execution_count": 15,
     "metadata": {},
     "output_type": "execute_result"
    }
   ],
   "source": [
    "model_large.coef_.T[5:15, 5:15].shape"
   ]
  },
  {
   "cell_type": "code",
   "execution_count": 17,
   "metadata": {},
   "outputs": [
    {
     "data": {
      "text/plain": [
       "array(['DrawFourCard()', 'DrawTwoCard(BLUE)', 'DrawTwoCard(GREEN)',\n",
       "       'DrawTwoCard(RED)', 'DrawTwoCard(YELLOW)', 'NumberCard(BLUE, 0)',\n",
       "       'NumberCard(BLUE, 1)', 'NumberCard(BLUE, 2)',\n",
       "       'NumberCard(BLUE, 3)', 'NumberCard(BLUE, 4)',\n",
       "       'NumberCard(BLUE, 5)', 'NumberCard(BLUE, 6)',\n",
       "       'NumberCard(BLUE, 7)', 'NumberCard(BLUE, 8)',\n",
       "       'NumberCard(BLUE, 9)', 'NumberCard(GREEN, 0)',\n",
       "       'NumberCard(GREEN, 1)', 'NumberCard(GREEN, 2)',\n",
       "       'NumberCard(GREEN, 3)', 'NumberCard(GREEN, 4)',\n",
       "       'NumberCard(GREEN, 5)', 'NumberCard(GREEN, 6)',\n",
       "       'NumberCard(GREEN, 7)', 'NumberCard(GREEN, 8)',\n",
       "       'NumberCard(GREEN, 9)', 'NumberCard(RED, 0)', 'NumberCard(RED, 1)',\n",
       "       'NumberCard(RED, 2)', 'NumberCard(RED, 3)', 'NumberCard(RED, 4)',\n",
       "       'NumberCard(RED, 5)', 'NumberCard(RED, 6)', 'NumberCard(RED, 7)',\n",
       "       'NumberCard(RED, 8)', 'NumberCard(RED, 9)',\n",
       "       'NumberCard(YELLOW, 0)', 'NumberCard(YELLOW, 1)',\n",
       "       'NumberCard(YELLOW, 2)', 'NumberCard(YELLOW, 3)',\n",
       "       'NumberCard(YELLOW, 4)', 'NumberCard(YELLOW, 5)',\n",
       "       'NumberCard(YELLOW, 6)', 'NumberCard(YELLOW, 7)',\n",
       "       'NumberCard(YELLOW, 8)', 'NumberCard(YELLOW, 9)',\n",
       "       'ReverseCard(BLUE)', 'ReverseCard(GREEN)', 'ReverseCard(RED)',\n",
       "       'ReverseCard(YELLOW)', 'SkipCard(BLUE)', 'SkipCard(GREEN)',\n",
       "       'SkipCard(RED)', 'SkipCard(YELLOW)', 'WildCard()'], dtype='<U21')"
      ]
     },
     "execution_count": 17,
     "metadata": {},
     "output_type": "execute_result"
    }
   ],
   "source": [
    "model_large.classes_"
   ]
  },
  {
   "cell_type": "code",
   "execution_count": null,
   "metadata": {},
   "outputs": [],
   "source": []
  }
 ],
 "metadata": {
  "kernelspec": {
   "display_name": "Python 3",
   "language": "python",
   "name": "python3"
  },
  "language_info": {
   "codemirror_mode": {
    "name": "ipython",
    "version": 3
   },
   "file_extension": ".py",
   "mimetype": "text/x-python",
   "name": "python",
   "nbconvert_exporter": "python",
   "pygments_lexer": "ipython3",
   "version": "3.5.2"
  }
 },
 "nbformat": 4,
 "nbformat_minor": 2
}
