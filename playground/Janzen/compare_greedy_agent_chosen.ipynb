{
 "cells": [
  {
   "cell_type": "code",
   "execution_count": 42,
   "metadata": {},
   "outputs": [],
   "source": [
    "import pandas as pd\n",
    "import datetime\n",
    "import sys\n",
    "import keras as ks\n",
    "import os\n",
    "import numpy as np\n",
    "try:\n",
    "    from .game_v2 import *\n",
    "except (ModuleNotFoundError if sys.version_info >= (3, 6) else SystemError) as e:\n",
    "    from game_v2 import *\n"
   ]
  },
  {
   "cell_type": "code",
   "execution_count": 43,
   "metadata": {},
   "outputs": [],
   "source": [
    "df = pd.read_pickle(\"local_result/greedy_playables_1000rounds_20190305110518.pkl\")"
   ]
  },
  {
   "cell_type": "code",
   "execution_count": 44,
   "metadata": {},
   "outputs": [],
   "source": [
    "def dqn_get_play(model, classmap, playable_cards, **info):\n",
    "    # =============\n",
    "    # preprocessing\n",
    "    # =============\n",
    "    # make model input from the given parameters\n",
    "    state = np.zeros(state_space_dim)\n",
    "\n",
    "    # play state(dim=22)\n",
    "    play_state = info.get(\"play_state\", None)\n",
    "    state[0] = play_state[\"to_draw\"]  # to draw(dim=1),        #0\n",
    "    state[play_state[\"color\"].value] = 1  # color(dim=4),      #1 - #4\n",
    "    state[play_state[\"value\"] + 6] = 1  # value(dim=11),       #5 - #15\n",
    "    state[play_state[\"type\"].value + 16] = 1  # type(dim=6),   #16 - #21\n",
    "\n",
    "    # flow state(dim=2): clockwise(dim=2)\n",
    "    # state[int(info.get(\"clockwise\", None)) + 22] = 1  # #22 - #23\n",
    "    clockwise = info.get(\"clockwise\", None)\n",
    "    if clockwise is not None:\n",
    "        state[int(clockwise) + 22] = 1\n",
    "\n",
    "    # player state(dim=110): cards(dim=54) in hand, number of them(dim=1) and valid actions can play(dim=55)\n",
    "    player = info.get(\"current_player\", None)\n",
    "    state[24] = info.get(\"num_cards_left\", None)  # #24\n",
    "    for card in player.cards:                     # #25 - #78\n",
    "        state[action_invmap[card.short_name] + 25] += 1\n",
    "\n",
    "    if len(playable_cards) == 0:\n",
    "        state[133] = 1\n",
    "    else:\n",
    "        for i, card in playable_cards:\n",
    "            state[action_invmap[card.short_name] + 79] += 1  # #79 - #132\n",
    "\n",
    "    # other player state(dim=1): #cards in each other player's hand\n",
    "    state[134] = info.get(\"next_player\", None).num_cards\n",
    "\n",
    "    state = np.reshape(state, (1, -1))\n",
    "\n",
    "    # ================\n",
    "    # model prediction\n",
    "    # ================\n",
    "    q_value = model.predict(state)\n",
    "    action_id = np.argmax(q_value[0])\n",
    "\n",
    "    # ==============\n",
    "    # postprocessing\n",
    "    # ==============\n",
    "    action_name = classmap[action_id]  # action_map\n",
    "    play = None\n",
    "    for i, card in playable_cards:\n",
    "        card_short_name = card.short_name\n",
    "        if card_short_name == action_name:\n",
    "            play = i, card\n",
    "\n",
    "    return play"
   ]
  },
  {
   "cell_type": "code",
   "execution_count": 45,
   "metadata": {},
   "outputs": [],
   "source": [
    "state_space_dim = 135\n",
    "unique_cards = make_standard_unique_deck()\n",
    "action_names = [card.short_name for card in unique_cards] + [None]\n",
    "action_space_dim = len(action_names)\n",
    "action_space = list(range(action_space_dim))\n",
    "action_map = dict(zip(action_space, action_names))  # int -> card/None\n",
    "action_invmap = dict(zip(action_names, action_space))  # card/None -> int"
   ]
  },
  {
   "cell_type": "code",
   "execution_count": 46,
   "metadata": {},
   "outputs": [],
   "source": [
    "def init_model(model, classmap):\n",
    "    if isinstance(model, ks.models.Model):\n",
    "        return model\n",
    "    elif isinstance(model, str):\n",
    "        assert os.path.exists(model)\n",
    "        return ks.models.load_model(model)\n",
    "        assert isinstance(self.model, ks.models.Model)\n",
    "    else:\n",
    "        raise Exception(\"Unknown model for LRPolicy\")"
   ]
  },
  {
   "cell_type": "code",
   "execution_count": 47,
   "metadata": {},
   "outputs": [
    {
     "name": "stderr",
     "output_type": "stream",
     "text": [
      "/Users/LilyLee/anaconda/lib/python3.6/site-packages/keras/engine/saving.py:327: UserWarning: Error in loading the saved optimizer state. As a result, your model is starting with a freshly initialized optimizer.\n",
      "  warnings.warn('Error in loading the saved optimizer '\n"
     ]
    }
   ],
   "source": [
    "agent_model = init_model(\"env-v6-dqn-002-local.h5\", action_map)"
   ]
  },
  {
   "cell_type": "code",
   "execution_count": 48,
   "metadata": {},
   "outputs": [
    {
     "name": "stdout",
     "output_type": "stream",
     "text": [
      "same_choice 19290 / total 30843 = 0.6254255422624259\n"
     ]
    }
   ],
   "source": [
    "# greedy vs dqn - 1000 rounds\n",
    "same_counter = 0\n",
    "for row_idx in range(len(df)):\n",
    "    greedy_chosen = df.loc[row_idx][6]\n",
    "#     print(\"greedy played\", df.loc[row_idx][6])\n",
    "    agent_chosen = dqn_get_play(agent_model, action_map, df.loc[row_idx][5], play_state=df.loc[row_idx][0], clockwise=df.loc[row_idx][1], \n",
    "            current_player=df.loc[row_idx][2], num_cards_left=df.loc[row_idx][3], next_player=df.loc[row_idx][4])\n",
    "#     print(\"agent played\", agent_chosen)\n",
    "#     print(\"*\"*80)\n",
    "    if(greedy_chosen == agent_chosen):\n",
    "        same_counter += 1\n",
    "print(\"same_choice {} / total {} = {}\".format(same_counter, len(df), same_counter / len(df)))"
   ]
  },
  {
   "cell_type": "code",
   "execution_count": null,
   "metadata": {},
   "outputs": [],
   "source": [
    "# return random.Random(num_rounds_played).choice(playable_cards)"
   ]
  },
  {
   "cell_type": "code",
   "execution_count": 49,
   "metadata": {},
   "outputs": [
    {
     "name": "stdout",
     "output_type": "stream",
     "text": [
      " greedy vs random0 same_choice 20057 / total 30843 = 0.6502934215219013\n"
     ]
    }
   ],
   "source": [
    "import random\n",
    "random_same_counter = 0\n",
    "for row_idx in range(len(df)):\n",
    "    greedy_chosen = df.loc[row_idx][6]\n",
    "    random_chosen = random.choice(df.loc[row_idx][5])\n",
    "    if(greedy_chosen == random_chosen):\n",
    "        random_same_counter += 1\n",
    "print(\" greedy vs random0 same_choice {} / total {} = {}\".format(random_same_counter, len(df), random_same_counter / len(df)))\n"
   ]
  },
  {
   "cell_type": "code",
   "execution_count": 53,
   "metadata": {},
   "outputs": [],
   "source": [
    "df_10000 = pd.read_pickle(\"local_result/greedy_playables_10000rounds_20190305024110.pkl\")"
   ]
  },
  {
   "cell_type": "code",
   "execution_count": 54,
   "metadata": {},
   "outputs": [
    {
     "data": {
      "text/plain": [
       "300863"
      ]
     },
     "execution_count": 54,
     "metadata": {},
     "output_type": "execute_result"
    }
   ],
   "source": [
    "len(df_10000)"
   ]
  },
  {
   "cell_type": "code",
   "execution_count": 55,
   "metadata": {},
   "outputs": [
    {
     "name": "stdout",
     "output_type": "stream",
     "text": [
      "greedy vs dqn 10000 rounds same_choice 188677 / total 300863 = 0.62711932008921\n"
     ]
    }
   ],
   "source": [
    "# greedy vs dqn - 10000 rounds\n",
    "same_counter_10000 = 0\n",
    "for row_idx in range(len(df_10000)):\n",
    "    record = df_10000.loc[row_idx]\n",
    "    greedy_chosen = record[6]\n",
    "    agent_chosen = dqn_get_play(agent_model, action_map, record[5], play_state=record[0], clockwise=record[1], \n",
    "            current_player=record[2], num_cards_left=record[3], next_player=record[4])\n",
    "    if(greedy_chosen == agent_chosen):\n",
    "        same_counter_10000 += 1\n",
    "print(\"greedy vs dqn 10000 rounds same_choice {} / total {} = {}\".format(same_counter_10000, len(df_10000), same_counter_10000 / len(df_10000)))\n"
   ]
  },
  {
   "cell_type": "code",
   "execution_count": 56,
   "metadata": {},
   "outputs": [],
   "source": [
    "def calc_random0_greedy_same_rate(stored_df):\n",
    "    counter = 0\n",
    "    total_num = len(stored_df)\n",
    "    for row_idx in range(total_num):\n",
    "        greedy_chosen = stored_df.loc[row_idx][6]\n",
    "        random_chosen = random.choice(stored_df.loc[row_idx][5])\n",
    "        if(greedy_chosen == random_chosen):\n",
    "            counter += 1\n",
    "    print(\"greedy vs random0 same choice {} / total {} = {}\".format(counter, total_num, counter / total_num))\n"
   ]
  },
  {
   "cell_type": "code",
   "execution_count": 57,
   "metadata": {},
   "outputs": [
    {
     "name": "stdout",
     "output_type": "stream",
     "text": [
      "greedy vs random0 same choice 196017 / total 300863 = 0.6515158061975052\n"
     ]
    }
   ],
   "source": [
    "calc_random0_greedy_same_rate(df_10000)"
   ]
  },
  {
   "cell_type": "code",
   "execution_count": null,
   "metadata": {},
   "outputs": [],
   "source": []
  }
 ],
 "metadata": {
  "kernelspec": {
   "display_name": "Python 3",
   "language": "python",
   "name": "python3"
  },
  "language_info": {
   "codemirror_mode": {
    "name": "ipython",
    "version": 3
   },
   "file_extension": ".py",
   "mimetype": "text/x-python",
   "name": "python",
   "nbconvert_exporter": "python",
   "pygments_lexer": "ipython3",
   "version": "3.6.4"
  }
 },
 "nbformat": 4,
 "nbformat_minor": 2
}
